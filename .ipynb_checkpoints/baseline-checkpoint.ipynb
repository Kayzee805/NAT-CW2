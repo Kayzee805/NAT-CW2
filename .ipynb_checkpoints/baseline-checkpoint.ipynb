{
 "cells": [
  {
   "cell_type": "markdown",
   "metadata": {},
   "source": [
    "# NAT Baseline"
   ]
  },
  {
   "cell_type": "code",
   "execution_count": 1,
   "metadata": {},
   "outputs": [],
   "source": [
    "# !activate sak\n",
    "#!pip install pints numpy matplotlib pandas sklearn\n",
    "\n",
    "from __future__ import print_function\n",
    "import warnings\n",
    "import pints\n",
    "import pints.toy as toy\n",
    "import numpy as np\n",
    "import matplotlib.pyplot as plt\n",
    "import pandas as pd\n",
    "from sklearn.neural_network import MLPClassifier\n",
    "from sklearn.datasets import fetch_openml\n",
    "from sklearn.exceptions import ConvergenceWarning\n",
    "from sklearn.neural_network import MLPClassifier\n",
    "from sklearn.model_selection import GridSearchCV\n",
    "from sklearn.metrics import mean_squared_error\n",
    "\n",
    "%matplotlib inline"
   ]
  },
  {
   "cell_type": "code",
   "execution_count": 2,
   "metadata": {},
   "outputs": [],
   "source": [
    "def twospirals(n_points, noise=.0, square=False, sine=False):\n",
    "    \"\"\"\n",
    "     Returns the two spirals dataset.\n",
    "    \"\"\"\n",
    "    n_points = int(n_points/2)\n",
    "    n = np.sqrt( np.random.rand(n_points,1) ) * 780 * (2*np.pi)/360\n",
    "    d1x = -np.cos(n)*n + np.random.rand(n_points,1) * noise\n",
    "    d1y = np.sin(n)*n + np.random.rand(n_points,1) * noise\n",
    "    d1 = (d1x, d1y)\n",
    "    negd1 = (-d1x, -d1y)\n",
    "\n",
    "    if sine: \n",
    "        sinx1, sinx2 = np.sin(d1x), np.sin(d1y)\n",
    "        d1 += (sinx1, sinx2)\n",
    "        negd1 += (-sinx1, -sinx2)\n",
    "    if square:\n",
    "        sqx1, sqx2 = d1x*d1x, d1y*d1y\n",
    "        d1 += (sqx1, sqx2)\n",
    "        negd1 += (-sqx1, -sqx2)\n",
    "\n",
    "    x1 = np.hstack(d1)\n",
    "    x2 = np.hstack(negd1)\n",
    "    x = np.vstack( (x1, x2) )\n",
    "    y = np.hstack( ( np.zeros(n_points), np.ones(n_points) ) )\n",
    "    return (x, y.astype(int))"
   ]
  },
  {
   "cell_type": "code",
   "execution_count": 3,
   "metadata": {},
   "outputs": [
    {
     "data": {
      "image/png": "[encoded data removed]",
      "text/plain": [
       "<Figure size 432x288 with 1 Axes>"
      ]
     },
     "metadata": {
      "needs_background": "light"
     },
     "output_type": "display_data"
    }
   ],
   "source": [
    "X_train, y_train = twospirals(n_points=100)\n",
    "X_test, y_test = twospirals(n_points=100)\n",
    "\n",
    "plt.title('training and testing set')\n",
    "plt.plot(X_train[y_train==0,0], X_train[y_train==0,1], '.', label='training class 1')\n",
    "plt.plot(X_train[y_train==1,0], X_train[y_train==1,1], '.', label='training class 2')\n",
    "plt.plot(X_test[y_test==0,0], X_test[y_test==0,1], '.', label='testing class 1')\n",
    "plt.plot(X_test[y_test==1,0], X_test[y_test==1,1], '.', label='testing class 2')\n",
    "plt.legend()\n",
    "plt.show()"
   ]
  },
  {
   "cell_type": "code",
   "execution_count": 4,
   "metadata": {
    "tags": []
   },
   "outputs": [],
   "source": [
    "param_grid = [{'activation' : ['identity', 'logistic', 'tanh', 'relu'],\n",
    "                'solver' : ['lbfgs', 'sgd', 'adam'],\n",
    "                'hidden_layer_sizes': [(4,), (5,), (6,), (7,), (8,)]}]\n",
    "\n",
    "# change num_training_iter to avoid perfect models (i.e. test_acc=0, mse=0)\n",
    "num_training_iter = 2"
   ]
  },
  {
   "cell_type": "code",
   "execution_count": 17,
   "metadata": {},
   "outputs": [],
   "source": [
    "def test(features, X_train, X_test, y_train, y_test, neurons_to_test):\n",
    "    \"\"\"\n",
    "    finds best ann params, bp for given features (x,y,xx,yy) and varies no. of neurons, n w/ bp\n",
    "    \"\"\"\n",
    "\n",
    "    # grid search to find best params for given features\n",
    "    with warnings.catch_warnings():\n",
    "        warnings.filterwarnings('ignore', category=ConvergenceWarning, module='sklearn')\n",
    "        gridsearch = GridSearchCV(MLPClassifier(), param_grid, cv=3, scoring='accuracy', verbose=0)\n",
    "        gridsearch.fit(X_train, y_train)\n",
    "        print(f'best params w/ {features} (e.g. {X_train[0]}): {gridsearch.best_params_}')\n",
    "\n",
    "    # vary no. of neurons, n w/ best params found ^ \n",
    "    for n in neurons_to_test:\n",
    "        best_activation = gridsearch.best_params_['activation']\n",
    "        best_solver = gridsearch.best_params_['solver']\n",
    "        clf = MLPClassifier(max_iter=num_training_iter, hidden_layer_sizes=n, activation=best_activation, solver=best_solver)\n",
    "        clf.fit(X_train, y_train)\n",
    "        print(f'neurons: {n[0]} \\t\\ttrain acc: {clf.score(X_train, y_train):.4f} \\t\\ttest acc: {clf.score(X_test, y_test):.4f} \\t\\tmse: {mean_squared_error(y_test, clf.predict(X_test)):.4f}')"
   ]
  },
  {
   "cell_type": "code",
   "execution_count": 18,
   "metadata": {},
   "outputs": [
    {
     "name": "stdout",
     "output_type": "stream",
     "text": [
      "best params w/ X,Y (e.g. [ 7.57599184 -6.75971911]): {'activation': 'logistic', 'hidden_layer_sizes': (5,), 'solver': 'lbfgs'}\n",
      "0.6763938787988343\n",
      "neurons: 4 \t\ttrain acc: 0.5920 \t\ttest acc: 0.5750 \t\tmse: 0.4250\n",
      "0.6549180637140877\n",
      "neurons: 5 \t\ttrain acc: 0.6230 \t\ttest acc: 0.5820 \t\tmse: 0.4180\n",
      "0.6643403310736689\n",
      "neurons: 6 \t\ttrain acc: 0.6070 \t\ttest acc: 0.5660 \t\tmse: 0.4340\n",
      "0.6544512695510465\n",
      "neurons: 7 \t\ttrain acc: 0.6290 \t\ttest acc: 0.6090 \t\tmse: 0.3910\n",
      "0.6517830321445744\n",
      "neurons: 8 \t\ttrain acc: 0.6230 \t\ttest acc: 0.5930 \t\tmse: 0.4070\n"
     ]
    },
    {
     "name": "stderr",
     "output_type": "stream",
     "text": [
      "c:\\python39\\lib\\site-packages\\sklearn\\neural_network\\_multilayer_perceptron.py:471: ConvergenceWarning: lbfgs failed to converge (status=1):\n",
      "STOP: TOTAL NO. of ITERATIONS REACHED LIMIT.\n",
      "\n",
      "Increase the number of iterations (max_iter) or scale the data as shown in:\n",
      "    https://scikit-learn.org/stable/modules/preprocessing.html\n",
      "  self.n_iter_ = _check_optimize_result(\"lbfgs\", opt_res, self.max_iter)\n",
      "c:\\python39\\lib\\site-packages\\sklearn\\neural_network\\_multilayer_perceptron.py:471: ConvergenceWarning: lbfgs failed to converge (status=1):\n",
      "STOP: TOTAL NO. of ITERATIONS REACHED LIMIT.\n",
      "\n",
      "Increase the number of iterations (max_iter) or scale the data as shown in:\n",
      "    https://scikit-learn.org/stable/modules/preprocessing.html\n",
      "  self.n_iter_ = _check_optimize_result(\"lbfgs\", opt_res, self.max_iter)\n",
      "c:\\python39\\lib\\site-packages\\sklearn\\neural_network\\_multilayer_perceptron.py:471: ConvergenceWarning: lbfgs failed to converge (status=1):\n",
      "STOP: TOTAL NO. of ITERATIONS REACHED LIMIT.\n",
      "\n",
      "Increase the number of iterations (max_iter) or scale the data as shown in:\n",
      "    https://scikit-learn.org/stable/modules/preprocessing.html\n",
      "  self.n_iter_ = _check_optimize_result(\"lbfgs\", opt_res, self.max_iter)\n",
      "c:\\python39\\lib\\site-packages\\sklearn\\neural_network\\_multilayer_perceptron.py:471: ConvergenceWarning: lbfgs failed to converge (status=1):\n",
      "STOP: TOTAL NO. of ITERATIONS REACHED LIMIT.\n",
      "\n",
      "Increase the number of iterations (max_iter) or scale the data as shown in:\n",
      "    https://scikit-learn.org/stable/modules/preprocessing.html\n",
      "  self.n_iter_ = _check_optimize_result(\"lbfgs\", opt_res, self.max_iter)\n",
      "c:\\python39\\lib\\site-packages\\sklearn\\neural_network\\_multilayer_perceptron.py:471: ConvergenceWarning: lbfgs failed to converge (status=1):\n",
      "STOP: TOTAL NO. of ITERATIONS REACHED LIMIT.\n",
      "\n",
      "Increase the number of iterations (max_iter) or scale the data as shown in:\n",
      "    https://scikit-learn.org/stable/modules/preprocessing.html\n",
      "  self.n_iter_ = _check_optimize_result(\"lbfgs\", opt_res, self.max_iter)\n"
     ]
    }
   ],
   "source": [
    "# TEST: LINEAR FEATURES (X, Y)\n",
    "X_train, y_train = twospirals(n_points=1000)\n",
    "X_test, y_test = twospirals(n_points=1000)\n",
    "\n",
    "test(features='X,Y', X_train=X_train, X_test=X_test, y_train=y_train, y_test=y_test, neurons_to_test=param_grid[0]['hidden_layer_sizes'])"
   ]
  },
  {
   "cell_type": "code",
   "execution_count": 7,
   "metadata": {},
   "outputs": [
    {
     "name": "stdout",
     "output_type": "stream",
     "text": [
      "best params w/ X,Y,sinX,sinY (e.g. [ 8.27801581 -5.65271244  0.91143654  0.58952679]): {'activation': 'tanh', 'hidden_layer_sizes': (8,), 'solver': 'lbfgs'}\n",
      "neurons: 4 \t\ttrain acc: 0.6200 \t\ttest acc: 0.6160 \t\tmse: 0.3840\n",
      "neurons: 5 \t\ttrain acc: 0.5850 \t\ttest acc: 0.5920 \t\tmse: 0.4080\n",
      "neurons: 6 \t\ttrain acc: 0.6140 \t\ttest acc: 0.6260 \t\tmse: 0.3740\n",
      "neurons: 7 \t\ttrain acc: 0.6120 \t\ttest acc: 0.6310 \t\tmse: 0.3690\n",
      "neurons: 8 \t\ttrain acc: 0.5490 \t\ttest acc: 0.5200 \t\tmse: 0.4800\n"
     ]
    },
    {
     "name": "stderr",
     "output_type": "stream",
     "text": [
      "c:\\python39\\lib\\site-packages\\sklearn\\neural_network\\_multilayer_perceptron.py:471: ConvergenceWarning: lbfgs failed to converge (status=1):\n",
      "STOP: TOTAL NO. of ITERATIONS REACHED LIMIT.\n",
      "\n",
      "Increase the number of iterations (max_iter) or scale the data as shown in:\n",
      "    https://scikit-learn.org/stable/modules/preprocessing.html\n",
      "  self.n_iter_ = _check_optimize_result(\"lbfgs\", opt_res, self.max_iter)\n",
      "c:\\python39\\lib\\site-packages\\sklearn\\neural_network\\_multilayer_perceptron.py:471: ConvergenceWarning: lbfgs failed to converge (status=1):\n",
      "STOP: TOTAL NO. of ITERATIONS REACHED LIMIT.\n",
      "\n",
      "Increase the number of iterations (max_iter) or scale the data as shown in:\n",
      "    https://scikit-learn.org/stable/modules/preprocessing.html\n",
      "  self.n_iter_ = _check_optimize_result(\"lbfgs\", opt_res, self.max_iter)\n",
      "c:\\python39\\lib\\site-packages\\sklearn\\neural_network\\_multilayer_perceptron.py:471: ConvergenceWarning: lbfgs failed to converge (status=1):\n",
      "STOP: TOTAL NO. of ITERATIONS REACHED LIMIT.\n",
      "\n",
      "Increase the number of iterations (max_iter) or scale the data as shown in:\n",
      "    https://scikit-learn.org/stable/modules/preprocessing.html\n",
      "  self.n_iter_ = _check_optimize_result(\"lbfgs\", opt_res, self.max_iter)\n",
      "c:\\python39\\lib\\site-packages\\sklearn\\neural_network\\_multilayer_perceptron.py:471: ConvergenceWarning: lbfgs failed to converge (status=1):\n",
      "STOP: TOTAL NO. of ITERATIONS REACHED LIMIT.\n",
      "\n",
      "Increase the number of iterations (max_iter) or scale the data as shown in:\n",
      "    https://scikit-learn.org/stable/modules/preprocessing.html\n",
      "  self.n_iter_ = _check_optimize_result(\"lbfgs\", opt_res, self.max_iter)\n",
      "c:\\python39\\lib\\site-packages\\sklearn\\neural_network\\_multilayer_perceptron.py:471: ConvergenceWarning: lbfgs failed to converge (status=1):\n",
      "STOP: TOTAL NO. of ITERATIONS REACHED LIMIT.\n",
      "\n",
      "Increase the number of iterations (max_iter) or scale the data as shown in:\n",
      "    https://scikit-learn.org/stable/modules/preprocessing.html\n",
      "  self.n_iter_ = _check_optimize_result(\"lbfgs\", opt_res, self.max_iter)\n"
     ]
    }
   ],
   "source": [
    "# TEST SINES (X, Y, sin(X), sin(Y))\n",
    "X_train, y_train = twospirals(n_points=1000, sine=True)\n",
    "X_test, y_test = twospirals(n_points=1000, sine=True)\n",
    "\n",
    "test(features='X,Y,sinX,sinY', X_train=X_train, X_test=X_test, y_train=y_train, y_test=y_test, neurons_to_test=param_grid[0]['hidden_layer_sizes'])"
   ]
  },
  {
   "cell_type": "code",
   "execution_count": 8,
   "metadata": {},
   "outputs": [
    {
     "name": "stdout",
     "output_type": "stream",
     "text": [
      "best params w/ X,Y,XX,YY (e.g. [-12.59245916   0.41458617 158.57002761   0.1718817 ]): {'activation': 'identity', 'hidden_layer_sizes': (4,), 'solver': 'lbfgs'}\n",
      "neurons: 4 \t\ttrain acc: 0.9990 \t\ttest acc: 1.0000 \t\tmse: 0.0000\n",
      "neurons: 5 \t\ttrain acc: 0.9980 \t\ttest acc: 0.9990 \t\tmse: 0.0010\n",
      "neurons: 6 \t\ttrain acc: 0.9250 \t\ttest acc: 0.9370 \t\tmse: 0.0630\n",
      "neurons: 7 \t\ttrain acc: 0.9850 \t\ttest acc: 0.9920 \t\tmse: 0.0080\n",
      "neurons: 8 \t\ttrain acc: 1.0000 \t\ttest acc: 1.0000 \t\tmse: 0.0000\n"
     ]
    },
    {
     "name": "stderr",
     "output_type": "stream",
     "text": [
      "c:\\python39\\lib\\site-packages\\sklearn\\neural_network\\_multilayer_perceptron.py:471: ConvergenceWarning: lbfgs failed to converge (status=1):\n",
      "STOP: TOTAL NO. of ITERATIONS REACHED LIMIT.\n",
      "\n",
      "Increase the number of iterations (max_iter) or scale the data as shown in:\n",
      "    https://scikit-learn.org/stable/modules/preprocessing.html\n",
      "  self.n_iter_ = _check_optimize_result(\"lbfgs\", opt_res, self.max_iter)\n",
      "c:\\python39\\lib\\site-packages\\sklearn\\neural_network\\_multilayer_perceptron.py:471: ConvergenceWarning: lbfgs failed to converge (status=1):\n",
      "STOP: TOTAL NO. of ITERATIONS REACHED LIMIT.\n",
      "\n",
      "Increase the number of iterations (max_iter) or scale the data as shown in:\n",
      "    https://scikit-learn.org/stable/modules/preprocessing.html\n",
      "  self.n_iter_ = _check_optimize_result(\"lbfgs\", opt_res, self.max_iter)\n",
      "c:\\python39\\lib\\site-packages\\sklearn\\neural_network\\_multilayer_perceptron.py:471: ConvergenceWarning: lbfgs failed to converge (status=1):\n",
      "STOP: TOTAL NO. of ITERATIONS REACHED LIMIT.\n",
      "\n",
      "Increase the number of iterations (max_iter) or scale the data as shown in:\n",
      "    https://scikit-learn.org/stable/modules/preprocessing.html\n",
      "  self.n_iter_ = _check_optimize_result(\"lbfgs\", opt_res, self.max_iter)\n",
      "c:\\python39\\lib\\site-packages\\sklearn\\neural_network\\_multilayer_perceptron.py:471: ConvergenceWarning: lbfgs failed to converge (status=1):\n",
      "STOP: TOTAL NO. of ITERATIONS REACHED LIMIT.\n",
      "\n",
      "Increase the number of iterations (max_iter) or scale the data as shown in:\n",
      "    https://scikit-learn.org/stable/modules/preprocessing.html\n",
      "  self.n_iter_ = _check_optimize_result(\"lbfgs\", opt_res, self.max_iter)\n",
      "c:\\python39\\lib\\site-packages\\sklearn\\neural_network\\_multilayer_perceptron.py:471: ConvergenceWarning: lbfgs failed to converge (status=1):\n",
      "STOP: TOTAL NO. of ITERATIONS REACHED LIMIT.\n",
      "\n",
      "Increase the number of iterations (max_iter) or scale the data as shown in:\n",
      "    https://scikit-learn.org/stable/modules/preprocessing.html\n",
      "  self.n_iter_ = _check_optimize_result(\"lbfgs\", opt_res, self.max_iter)\n"
     ]
    }
   ],
   "source": [
    "# TEST SQUARES (X,Y, X*X, Y*Y)\n",
    "X_train, y_train = twospirals(n_points=1000, square=True)\n",
    "X_test, y_test = twospirals(n_points=1000, square=True)\n",
    "\n",
    "test(features='X,Y,XX,YY', X_train=X_train, X_test=X_test, y_train=y_train, y_test=y_test, neurons_to_test=param_grid[0]['hidden_layer_sizes'])"
   ]
  },
  {
   "cell_type": "code",
   "execution_count": 9,
   "metadata": {},
   "outputs": [
    {
     "name": "stdout",
     "output_type": "stream",
     "text": [
      "best params w/ X,Y,sinX,sinY,XX,YY (e.g. [-4.50445228  5.58522548  0.97845895 -0.64265594 20.29009032 31.19474369]): {'activation': 'identity', 'hidden_layer_sizes': (4,), 'solver': 'lbfgs'}\n",
      "neurons: 4 \t\ttrain acc: 0.9970 \t\ttest acc: 1.0000 \t\tmse: 0.0000\n",
      "neurons: 5 \t\ttrain acc: 1.0000 \t\ttest acc: 1.0000 \t\tmse: 0.0000\n",
      "neurons: 6 \t\ttrain acc: 0.9940 \t\ttest acc: 0.9980 \t\tmse: 0.0020\n",
      "neurons: 7 \t\ttrain acc: 0.9980 \t\ttest acc: 1.0000 \t\tmse: 0.0000\n",
      "neurons: 8 \t\ttrain acc: 1.0000 \t\ttest acc: 1.0000 \t\tmse: 0.0000\n"
     ]
    },
    {
     "name": "stderr",
     "output_type": "stream",
     "text": [
      "c:\\python39\\lib\\site-packages\\sklearn\\neural_network\\_multilayer_perceptron.py:471: ConvergenceWarning: lbfgs failed to converge (status=1):\n",
      "STOP: TOTAL NO. of ITERATIONS REACHED LIMIT.\n",
      "\n",
      "Increase the number of iterations (max_iter) or scale the data as shown in:\n",
      "    https://scikit-learn.org/stable/modules/preprocessing.html\n",
      "  self.n_iter_ = _check_optimize_result(\"lbfgs\", opt_res, self.max_iter)\n",
      "c:\\python39\\lib\\site-packages\\sklearn\\neural_network\\_multilayer_perceptron.py:471: ConvergenceWarning: lbfgs failed to converge (status=1):\n",
      "STOP: TOTAL NO. of ITERATIONS REACHED LIMIT.\n",
      "\n",
      "Increase the number of iterations (max_iter) or scale the data as shown in:\n",
      "    https://scikit-learn.org/stable/modules/preprocessing.html\n",
      "  self.n_iter_ = _check_optimize_result(\"lbfgs\", opt_res, self.max_iter)\n",
      "c:\\python39\\lib\\site-packages\\sklearn\\neural_network\\_multilayer_perceptron.py:471: ConvergenceWarning: lbfgs failed to converge (status=1):\n",
      "STOP: TOTAL NO. of ITERATIONS REACHED LIMIT.\n",
      "\n",
      "Increase the number of iterations (max_iter) or scale the data as shown in:\n",
      "    https://scikit-learn.org/stable/modules/preprocessing.html\n",
      "  self.n_iter_ = _check_optimize_result(\"lbfgs\", opt_res, self.max_iter)\n",
      "c:\\python39\\lib\\site-packages\\sklearn\\neural_network\\_multilayer_perceptron.py:471: ConvergenceWarning: lbfgs failed to converge (status=1):\n",
      "STOP: TOTAL NO. of ITERATIONS REACHED LIMIT.\n",
      "\n",
      "Increase the number of iterations (max_iter) or scale the data as shown in:\n",
      "    https://scikit-learn.org/stable/modules/preprocessing.html\n",
      "  self.n_iter_ = _check_optimize_result(\"lbfgs\", opt_res, self.max_iter)\n",
      "c:\\python39\\lib\\site-packages\\sklearn\\neural_network\\_multilayer_perceptron.py:471: ConvergenceWarning: lbfgs failed to converge (status=1):\n",
      "STOP: TOTAL NO. of ITERATIONS REACHED LIMIT.\n",
      "\n",
      "Increase the number of iterations (max_iter) or scale the data as shown in:\n",
      "    https://scikit-learn.org/stable/modules/preprocessing.html\n",
      "  self.n_iter_ = _check_optimize_result(\"lbfgs\", opt_res, self.max_iter)\n"
     ]
    }
   ],
   "source": [
    "# TEST ALL FEATURES (X,Y, sin(X), sin(Y), X*X, Y*Y) \n",
    "\n",
    "# generate twospirals\n",
    "X_train, y_train = twospirals(n_points=1000, square=True, sine=True)\n",
    "X_test, y_test = twospirals(n_points=1000, square=True, sine=True)\n",
    "\n",
    "test(features='X,Y,sinX,sinY,XX,YY', X_train=X_train, X_test=X_test, y_train=y_train, y_test=y_test, neurons_to_test=param_grid[0]['hidden_layer_sizes'])"
   ]
  },
  {
   "cell_type": "code",
   "execution_count": null,
   "metadata": {},
   "outputs": [],
   "source": []
  },
  {
   "cell_type": "code",
   "execution_count": null,
   "metadata": {},
   "outputs": [],
   "source": []
  }
 ],
 "metadata": {
  "kernelspec": {
   "display_name": "Python 3",
   "language": "python",
   "name": "python3"
  },
  "language_info": {
   "codemirror_mode": {
    "name": "ipython",
    "version": 3
   },
   "file_extension": ".py",
   "mimetype": "text/x-python",
   "name": "python",
   "nbconvert_exporter": "python",
   "pygments_lexer": "ipython3",
   "version": "3.9.0"
  }
 },
 "nbformat": 4,
 "nbformat_minor": 2
}
