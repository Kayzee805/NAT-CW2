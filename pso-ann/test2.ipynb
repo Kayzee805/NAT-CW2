{
 "cells": [
  {
   "cell_type": "code",
   "execution_count": 21,
   "metadata": {},
   "outputs": [],
   "source": [
    "# -*- coding: utf-8 -*-\n",
    "\n",
    "import functools\n",
    "import numpy as np\n",
    "import sklearn.metrics\n",
    "import sklearn.datasets\n",
    "import sklearn.model_selection\n",
    "\n",
    "\n",
    "import pso\n",
    "import ann\n",
    "#activationLayer=\"tanh\"\n",
    "#np.random.seed(6663)\n",
    "def dim_weights(shape):\n",
    "    dim = 0\n",
    "    for i in range(len(shape)-1):\n",
    "        dim = dim + (shape[i] + 1) * shape[i+1]\n",
    "    return dim\n",
    "\n",
    "def weights_to_vector(weights):\n",
    "    w = np.asarray([])\n",
    "    for i in range(len(weights)):\n",
    "        v = weights[i].flatten()\n",
    "        w = np.append(w, v)\n",
    "    return w\n",
    "\n",
    "def vector_to_weights(vector, shape):\n",
    "    weights = []\n",
    "    idx = 0\n",
    "    for i in range(len(shape)-1):\n",
    "        r = shape[i+1]\n",
    "        c = shape[i] + 1\n",
    "        idx_min = idx\n",
    "        idx_max = idx + r*c\n",
    "        W = vector[idx_min:idx_max].reshape(r,c)\n",
    "        weights.append(W)\n",
    "    return weights\n",
    "\n",
    "\n",
    "\n",
    "#this is the optimisation for the coords of the particles??\n",
    "def eval_neural_network(weights, shape, X, y,activationLayer):\n",
    "    mse = np.asarray([])\n",
    "    for w in weights:\n",
    "        weights = vector_to_weights(w, shape)\n",
    "        nn = ann.MultiLayerPerceptron(shape, weights=weights)\n",
    "        y_pred = nn.run(X,activationLayer)\n",
    "        mse = np.append(mse, sklearn.metrics.mean_squared_error(np.atleast_2d(y), y_pred))\n",
    "    return mse\n",
    "\n",
    "def print_best_particle(best_particle):\n",
    "    print(\"New best particle found at iteration #{i} with mean squared error: {score}\".format(i=best_particle[0], score=best_particle[1]))\n",
    "\n",
    "\n",
    "\n",
    "\n",
    "#just xy error = 0.22938741634873416\n",
    "#with sinx sin y error = 0.2325498216710004\n",
    "#with sin and sq error = 0.21790465807135315"
   ]
  },
  {
   "cell_type": "code",
   "execution_count": 22,
   "metadata": {},
   "outputs": [],
   "source": [
    "\n",
    "def sine(X):\n",
    "    return np.sin(X)\n",
    "\n",
    "\n",
    "#loading Starts here\n",
    "\n",
    "def sq(X):\n",
    "    return np.power(X,2)\n",
    "\n",
    "num_classes = 2\n",
    "f = open(\"two_spirals.dat\",\"r\")\n",
    "data = np.loadtxt(f)\n",
    "X = data[:,0:2]\n",
    "y = data[:,2]\n",
    "y = y.astype(int)\n",
    "\n",
    "\n",
    "def generateData(X,y,ratio,sin=False,square=False):\n",
    "    if sin and square:\n",
    "        X = np.hstack((X,np.hstack((sq(X),sine(X)))))\n",
    "      #  print(X[0])\n",
    "    elif sin:\n",
    "        X=np.hstack((X,sine(X)))\n",
    "    elif square:\n",
    "        X = np.hstack((X,sq(X)))\n",
    "    train_test_split = int(ratio*len(y))\n",
    "    X_train,X_test = X[:train_test_split],X[train_test_split:]\n",
    "    y_train,y_test = y[:train_test_split],y[train_test_split:]  \n",
    "    return X,X_train,X_test,y_train,y_test\n",
    "\n",
    "X,X_train,X_test,y_train,y_test=generateData(X,y,0.5,True,True)\n",
    "\n",
    "\n",
    "#so x train and y train are basically x and y in this file\n",
    "\n",
    "X = X_train\n",
    "y = y_train"
   ]
  },
  {
   "cell_type": "code",
   "execution_count": 23,
   "metadata": {},
   "outputs": [
    {
     "name": "stdout",
     "output_type": "stream",
     "text": [
      "Number of inputs =  6\n",
      "y test shap e=  (132,)\n",
      "y true shape =  (132, 2)\n",
      "y test true shape =  (132, 2)\n",
      "(132, 6)\n",
      "(132, 6)\n"
     ]
    }
   ],
   "source": [
    "\n",
    "# # Load MNIST digits from sklearn\n",
    "\n",
    "# num_classes = 10\n",
    "# mnist = sklearn.datasets.load_digits(num_classes)\n",
    "# X, X_test, y, y_test = sklearn.model_selection.train_test_split(mnist.data, mnist.target)\n",
    "\n",
    "num_inputs = X.shape[1]\n",
    "print(\"Number of inputs = \",num_inputs)\n",
    "y_true = np.zeros((len(y), num_classes))\n",
    "\n",
    "for i in range(len(y)):\n",
    "    y_true[i, y[i]] = 1\n",
    "\n",
    "y_test_true = np.zeros((len(y_test), num_classes))\n",
    "for i in range(len(y_test)):\n",
    "    y_test_true[i, y_test[i]] = 1\n",
    "\n",
    "\n",
    "print(\"y test shap e= \", y_test.shape)\n",
    "print(\"y true shape = \",y_true.shape)\n",
    "print(\"y test true shape = \",y_test_true.shape)\n",
    "print(X_test.shape)\n",
    "print(X_train.shape)"
   ]
  },
  {
   "cell_type": "code",
   "execution_count": 24,
   "metadata": {},
   "outputs": [
    {
     "name": "stdout",
     "output_type": "stream",
     "text": [
      "[1. 0. 1.]\n"
     ]
    }
   ],
   "source": [
    "array = [0.51,0.49,0.6]\n",
    "print(np.round(array,0))"
   ]
  },
  {
   "cell_type": "code",
   "execution_count": 63,
   "metadata": {},
   "outputs": [],
   "source": [
    "def training(shape,activationLayer):\n",
    "\n",
    "    cost_func = functools.partial(eval_neural_network, shape=shape, X=X, y=y_true.T,activationLayer=activationLayer)\n",
    "\n",
    "    swarm = pso.ParticleSwarm(cost_func, num_dimensions=dim_weights(shape), num_particles=25,chi=0.72984 ,phi_p=2.05,phi_g=2.05)\n",
    "    # Train...\n",
    "    i = 0\n",
    "    best_scores = [(i, swarm.best_score)]\n",
    "    print_best_particle(best_scores[-1])\n",
    "    \n",
    "    trainingLoss = []\n",
    "    testloss = []\n",
    "    iterations = 2000\n",
    "    while swarm.best_score>1e-6 and i<iterations:\n",
    "        swarm._update()\n",
    "        i = i+1\n",
    "        best_weights = vector_to_weights(swarm.g, shape)\n",
    "        best_nn = ann.MultiLayerPerceptron(shape, weights=best_weights)\n",
    "\n",
    "        y_test_pred =np.round(best_nn.run(X_test,activationLayer),0)\n",
    "        testError = sklearn.metrics.mean_squared_error(y_test_true,y_test_pred.T)\n",
    "        \n",
    "        #print(\"index = \",i)\n",
    "        if i%500==0 and swarm.best_score < best_scores[-1][1]:\n",
    "            best_scores.append((i, swarm.best_score))\n",
    "            print_best_particle(best_scores[-1])\n",
    "            #training per epoch\n",
    "            print(\"Mean absolute error score for index   =\",i,(activationLayer,testError))\n",
    "        trainingLoss.append(swarm.best_score)\n",
    "        testloss.append(testError)\n",
    "        \n",
    "    # Test...\n",
    "    \n",
    "    \n",
    "    best_weights = vector_to_weights(swarm.g, shape)\n",
    "    best_nn = ann.MultiLayerPerceptron(shape, weights=best_weights)\n",
    "\n",
    "    y_test_pred =np.round(best_nn.run(X_test,activationLayer),0)\n",
    "    \n",
    "    points = np.arange(iterations)\n",
    "    plt.plot(points,testloss,color=\"b\",label=\"Test loss\")\n",
    "    plt.plot(points,trainingLoss,color=\"r\",label=\"Train loss\")\n",
    "    plt.xlabel(\"Iterations\")\n",
    "    plt.ylabel(\"Error\")\n",
    "    plt.title(activationLayer)\n",
    "    plt.legend()\n",
    "    plt.show()\n",
    "    ##this is dumb\n",
    "    #eval neural network is pritning the mean squared error at each time\n",
    "    print(\"best score = \",best_scores[ -1])\n",
    "  #  print(sklearn.metrics.classification_report(y_test_true, y_test_pred.T))\n",
    "\n",
    "    print(\"Mean absolute error score for  =\",(activationLayer, sklearn.metrics.mean_squared_error(y_test_true,y_test_pred.T)))\n",
    "    #print(\"Accuracy score = \",sklearn.metrics.accuracy_score(y_test_true,y_test_pred.T))\n",
    "    return sklearn.metrics.mean_squared_error(y_test_true,y_test_pred.T)\n"
   ]
  },
  {
   "cell_type": "code",
   "execution_count": 69,
   "metadata": {},
   "outputs": [
    {
     "name": "stdout",
     "output_type": "stream",
     "text": [
      "New best particle found at iteration #0 with mean squared error: 89.79073928708233\n",
      "New best particle found at iteration #500 with mean squared error: 0.1731021119867907\n",
      "Mean absolute error score for index   = 500 ('relu', 0.29545454545454547)\n",
      "New best particle found at iteration #1000 with mean squared error: 0.16923899578174278\n",
      "Mean absolute error score for index   = 1000 ('relu', 0.2878787878787879)\n",
      "New best particle found at iteration #1500 with mean squared error: 0.1675589645837636\n",
      "Mean absolute error score for index   = 1500 ('relu', 0.2916666666666667)\n",
      "New best particle found at iteration #2000 with mean squared error: 0.16731269909446198\n",
      "Mean absolute error score for index   = 2000 ('relu', 0.2878787878787879)\n"
     ]
    },
    {
     "data": {
      "image/png": "[encoded data removed]",
      "text/plain": [
       "<Figure size 432x288 with 1 Axes>"
      ]
     },
     "metadata": {
      "needs_background": "light"
     },
     "output_type": "display_data"
    },
    {
     "name": "stdout",
     "output_type": "stream",
     "text": [
      "best score =  (2000, 0.16731269909446198)\n",
      "Mean absolute error score for  = ('relu', 0.2878787878787879)\n"
     ]
    },
    {
     "data": {
      "text/plain": [
       "0.2878787878787879"
      ]
     },
     "execution_count": 69,
     "metadata": {},
     "output_type": "execute_result"
    }
   ],
   "source": [
    "shape=(num_inputs,6,num_classes)\n",
    "activationLayer=\"relu\"\n",
    "training(shape,activationLayer)\n",
    "# training(shape,\"sigmoid\")"
   ]
  },
  {
   "cell_type": "code",
   "execution_count": 33,
   "metadata": {},
   "outputs": [
    {
     "name": "stdout",
     "output_type": "stream",
     "text": [
      "New best particle found at iteration #0 with mean squared error: 0.3158711559154064\n",
      "New best particle found at iteration #5000 with mean squared error: 0.17613603217149595\n",
      "New best particle found at iteration #10000 with mean squared error: 0.1755000923180775\n",
      "best score =  (10000, 0.1755000923180775)\n",
      "Mean absolute error score for  = ('sigmoid', 0.3560606060606061)\n",
      "0 0\n",
      "New best particle found at iteration #0 with mean squared error: 0.3630783255957778\n",
      "New best particle found at iteration #5000 with mean squared error: 0.1624487999443358\n",
      "New best particle found at iteration #10000 with mean squared error: 0.15968541238181894\n",
      "best score =  (10000, 0.15968541238181894)\n",
      "Mean absolute error score for  = ('sigmoid', 0.2992424242424242)\n",
      "0 1\n",
      "New best particle found at iteration #0 with mean squared error: 0.3513475589409199\n",
      "New best particle found at iteration #5000 with mean squared error: 0.1207130271055023\n",
      "New best particle found at iteration #10000 with mean squared error: 0.11548653563214166\n",
      "best score =  (10000, 0.11548653563214166)\n",
      "Mean absolute error score for  = ('sigmoid', 0.23484848484848486)\n",
      "0 2\n",
      "New best particle found at iteration #0 with mean squared error: 0.3851106187319771\n",
      "New best particle found at iteration #5000 with mean squared error: 0.05239451036742045\n",
      "New best particle found at iteration #10000 with mean squared error: 0.04154668385930919\n",
      "best score =  (10000, 0.04154668385930919)\n",
      "Mean absolute error score for  = ('sigmoid', 0.07196969696969696)\n",
      "0 3\n",
      "New best particle found at iteration #0 with mean squared error: 0.4429551691689168\n",
      "New best particle found at iteration #5000 with mean squared error: 0.06695842452406676\n",
      "New best particle found at iteration #10000 with mean squared error: 0.04978673586027194\n",
      "best score =  (10000, 0.04978673586027194)\n",
      "Mean absolute error score for  = ('sigmoid', 0.10227272727272727)\n",
      "0 4\n",
      "New best particle found at iteration #0 with mean squared error: 0.35840357703697906\n",
      "New best particle found at iteration #5000 with mean squared error: 0.16941974898634066\n",
      "New best particle found at iteration #10000 with mean squared error: 0.1647530186707417\n",
      "best score =  (10000, 0.1647530186707417)\n",
      "Mean absolute error score for  = ('tanh', 0.26515151515151514)\n",
      "1 0\n",
      "New best particle found at iteration #0 with mean squared error: 0.39358942178944417\n",
      "New best particle found at iteration #5000 with mean squared error: 0.14422973521220228\n",
      "New best particle found at iteration #10000 with mean squared error: 0.14383827558841655\n",
      "best score =  (10000, 0.14383827558841655)\n",
      "Mean absolute error score for  = ('tanh', 0.23484848484848486)\n",
      "1 1\n",
      "New best particle found at iteration #0 with mean squared error: 0.42405795096229065\n",
      "New best particle found at iteration #5000 with mean squared error: 0.1594645737990986\n",
      "New best particle found at iteration #10000 with mean squared error: 0.15777764707540506\n",
      "best score =  (10000, 0.15777764707540506)\n",
      "Mean absolute error score for  = ('tanh', 0.29924242424242425)\n",
      "1 2\n",
      "New best particle found at iteration #0 with mean squared error: 0.4543676352931848\n",
      "New best particle found at iteration #5000 with mean squared error: 0.11026129991426249\n",
      "New best particle found at iteration #10000 with mean squared error: 0.09686904183978293\n",
      "best score =  (10000, 0.09686904183978293)\n",
      "Mean absolute error score for  = ('tanh', 0.19318181818181818)\n",
      "1 3\n",
      "New best particle found at iteration #0 with mean squared error: 0.4635589394502475\n",
      "New best particle found at iteration #5000 with mean squared error: 0.14403023997570016\n",
      "New best particle found at iteration #10000 with mean squared error: 0.1286592133673777\n",
      "best score =  (10000, 0.1286592133673777)\n",
      "Mean absolute error score for  = ('tanh', 0.17803030303030304)\n",
      "1 4\n"
     ]
    }
   ],
   "source": [
    "def testRun():\n",
    "    '''\n",
    "    I want mse to be y axis\n",
    "    I want neurons to be x axis\n",
    "    then I will have 3 plots, tanh, sigmoid and relu?\n",
    "    '''\n",
    "    #shape = (num_inputs, 8, num_classes)\n",
    "\n",
    "    activations = ['sigmoid','tanh']#,'relu','default']\n",
    "    neurons = [4,5,6,7,8]\n",
    "    arrays = np.zeros(shape=(len(activations),len(neurons)))\n",
    "\n",
    "    for i in range(len(arrays)):\n",
    "        activationLayer = activations[i]\n",
    "        for k in range(len(neurons)):\n",
    "            shape = (num_inputs,neurons[k],num_classes)\n",
    "            mse = training(shape,activationLayer)\n",
    "            arrays[i][k]=mse\n",
    "            print(i,k)\n",
    "     #   print(i)\n",
    "\n",
    "    return arrays\n",
    "\n",
    "arrays = testRun()\n",
    "\n"
   ]
  },
  {
   "cell_type": "code",
   "execution_count": 34,
   "metadata": {},
   "outputs": [],
   "source": [
    "# def testRun():\n",
    "#     '''\n",
    "#     I want mse to be y axis\n",
    "#     I want neurons to be x axis\n",
    "#     then I will have 3 plots, tanh, sigmoid and relu?\n",
    "#     '''\n",
    "#     #shape = (num_inputs, 8, num_classes)\n",
    "\n",
    "#     activations = ['tanh']#,'relu','default']\n",
    "#     neurons = [4,5,6,7,8]\n",
    "#     arrays = np.zeros(shape=(len(activations),len(neurons)))\n",
    "\n",
    "#     for i in range(len(arrays)):\n",
    "#         activationLayer = activations[i]\n",
    "#         for k in range(len(neurons)):\n",
    "#             shape = (num_inputs,neurons[k],num_classes)\n",
    "#             mse = training(shape,activationLayer)\n",
    "#             arrays[i][k]=mse\n",
    "#             print(i,k)\n",
    "#      #   print(i)\n",
    "\n",
    "#     return arrays\n",
    "\n",
    "# tanh = testRun()\n"
   ]
  },
  {
   "cell_type": "code",
   "execution_count": 35,
   "metadata": {},
   "outputs": [
    {
     "data": {
      "image/png": "[encoded data removed]",
      "text/plain": [
       "<Figure size 504x504 with 1 Axes>"
      ]
     },
     "metadata": {
      "needs_background": "light"
     },
     "output_type": "display_data"
    },
    {
     "name": "stdout",
     "output_type": "stream",
     "text": [
      "hello\n"
     ]
    }
   ],
   "source": [
    "import matplotlib.pyplot as plt\n",
    "\n",
    "neurons = [4,5,6,7,8]\n",
    "plt.figure(figsize=(7,7))\n",
    "plt.plot(neurons,arrays[1],color='r',label=\"tanh\")\n",
    "plt.plot(neurons,arrays[0],color='g',label=\"sigmoid\")\n",
    "#plt.plot(neurons,arrays[2],color='c',label=\"relu\")\n",
    "#plt.plot(neurons,arrays[3],color='b',label=\"Identity\")\n",
    "plt.xlabel(\"Neurons\")\n",
    "plt.ylabel(\"Test error: MSE\")\n",
    "plt.legend()\n",
    "plt.show()\n",
    "print(\"hello\")"
   ]
  },
  {
   "cell_type": "code",
   "execution_count": 127,
   "metadata": {},
   "outputs": [
    {
     "data": {
      "text/plain": [
       "'\\nUsing the brute force method figure out the optimal functions\\n\\nthen use the same functions in PSO and compare it with base line\\n\\n'"
      ]
     },
     "execution_count": 127,
     "metadata": {},
     "output_type": "execute_result"
    }
   ],
   "source": [
    "'''\n",
    "Using the brute force method figure out the optimal functions\n",
    "\n",
    "then use the same functions in PSO and compare it with base line\n",
    "\n",
    "'''"
   ]
  },
  {
   "cell_type": "code",
   "execution_count": 129,
   "metadata": {},
   "outputs": [
    {
     "data": {
      "image/png": "[encoded data removed]",
      "text/plain": [
       "<Figure size 504x504 with 1 Axes>"
      ]
     },
     "metadata": {
      "needs_background": "light"
     },
     "output_type": "display_data"
    },
    {
     "name": "stdout",
     "output_type": "stream",
     "text": [
      "hello\n"
     ]
    }
   ],
   "source": [
    "import matplotlib.pyplot as plt\n",
    "\n",
    "neurons = [4,5,6,7,8]\n",
    "plt.figure(figsize=(7,7))\n",
    "plt.plot(neurons,arrays[1],color='r',label=\"tanh\")\n",
    "plt.plot(neurons,arrays[0],color='g',label=\"sigmoid\")\n",
    "#plt.plot(neurons,arrays[2],color='c',label=\"relu\")\n",
    "#plt.plot(neurons,arrays[3],color='b',label=\"Identity\")\n",
    "plt.xlabel(\"Neurons\")\n",
    "plt.ylabel(\"Test error: MSE\")\n",
    "plt.legend()\n",
    "plt.show()\n",
    "print(\"hello\")"
   ]
  },
  {
   "cell_type": "code",
   "execution_count": 35,
   "metadata": {},
   "outputs": [
    {
     "name": "stdout",
     "output_type": "stream",
     "text": [
      "2\n"
     ]
    }
   ],
   "source": [
    "np.random.seed(2)\n"
   ]
  },
  {
   "cell_type": "code",
   "execution_count": null,
   "metadata": {},
   "outputs": [],
   "source": []
  },
  {
   "cell_type": "code",
   "execution_count": null,
   "metadata": {},
   "outputs": [],
   "source": []
  }
 ],
 "metadata": {
  "kernelspec": {
   "display_name": "Python 3",
   "language": "python",
   "name": "python3"
  },
  "language_info": {
   "codemirror_mode": {
    "name": "ipython",
    "version": 3
   },
   "file_extension": ".py",
   "mimetype": "text/x-python",
   "name": "python",
   "nbconvert_exporter": "python",
   "pygments_lexer": "ipython3",
   "version": "3.9.0"
  }
 },
 "nbformat": 4,
 "nbformat_minor": 2
}
