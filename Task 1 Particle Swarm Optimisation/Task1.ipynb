{
 "cells": [
  {
   "cell_type": "code",
   "execution_count": 1,
   "metadata": {},
   "outputs": [],
   "source": [
    "\n",
    "import functools\n",
    "import numpy as np\n",
    "import sklearn.metrics\n",
    "import sklearn.datasets\n",
    "import sklearn.model_selection\n",
    "import matplotlib.pyplot as plt\n",
    "\n",
    "\n",
    "import pso\n",
    "import ann\n",
    "plt.rcParams[\"figure.figsize\"]=(12,9)"
   ]
  },
  {
   "cell_type": "code",
   "execution_count": 2,
   "metadata": {},
   "outputs": [],
   "source": [
    "def dim_weights(shape):\n",
    "    dim = 0\n",
    "    \n",
    "    for i in range(len(shape)-1):\n",
    "        dim = dim + (shape[i] + 1) * shape[i+1]\n",
    "    return dim\n",
    "\n",
    "def weights_to_vector(weights):\n",
    "    w = np.asarray([])\n",
    "    for i in range(len(weights)):\n",
    "        v = weights[i].flatten()\n",
    "        w = np.append(w, v)\n",
    "    return w\n",
    "\n",
    "def vector_to_weights(vector, shape):\n",
    "    weights = []\n",
    "    idx = 0\n",
    "    for i in range(len(shape)-1):\n",
    "        r = shape[i+1]\n",
    "        c = shape[i] + 1\n",
    "        idx_min = idx\n",
    "        idx_max = idx + r*c\n",
    "        W = vector[idx_min:idx_max].reshape(r,c)\n",
    "        weights.append(W)\n",
    "    return weights\n",
    "\n",
    "\n",
    "\n",
    "#this is the optimisation for the coords of the particles??\n",
    "def eval_neural_network(weights, shape, X, y,activationLayer):\n",
    "    mse = np.asarray([])\n",
    "    for w in weights:\n",
    "        weights = vector_to_weights(w, shape)\n",
    "        nn = ann.MultiLayerPerceptron(shape, weights=weights)\n",
    "        y_pred = nn.run(X,activationLayer)\n",
    "        #print(\"eval network :\",y.shape,y_pred.shape,X.shape)\n",
    "        mse = np.append(mse, sklearn.metrics.mean_squared_error(y, y_pred))\n",
    "    return mse\n",
    "\n",
    "def print_best_particle(best_particle):\n",
    "    print(\"New best particle found at iteration #{i} with mean squared error: {score}\".format(i=best_particle[0], score=best_particle[1]))\n"
   ]
  },
  {
   "cell_type": "code",
   "execution_count": 3,
   "metadata": {},
   "outputs": [],
   "source": [
    "#Additional Input features\n",
    "def sine(X):\n",
    "    return np.sin(X)\n",
    "def sq(X):\n",
    "    return np.power(X,2)\n"
   ]
  },
  {
   "cell_type": "code",
   "execution_count": 4,
   "metadata": {},
   "outputs": [],
   "source": [
    "#loading the data\n",
    "num_classes = 2\n",
    "f = open(\"two_spirals.dat\",\"r\")\n",
    "data = np.loadtxt(f)\n",
    "X = data[:,0:2]\n",
    "y = data[:,2]\n",
    "y = y.astype(int)"
   ]
  },
  {
   "cell_type": "code",
   "execution_count": 5,
   "metadata": {},
   "outputs": [],
   "source": [
    "#Combines the features and generate Train and test data\n",
    "def generateData(X,y,ratio,sin=False,square=False):\n",
    "    if sin and square:\n",
    "        X = np.hstack((X,np.hstack((sq(X),sine(X)))))\n",
    "      #  print(X[0])\n",
    "    elif sin:\n",
    "        X=np.hstack((X,sine(X)))\n",
    "    elif square:\n",
    "        X = np.hstack((X,sq(X)))\n",
    "    train_test_split = int(ratio*len(y))\n",
    "    X_train,X_test = X[:train_test_split],X[train_test_split:]\n",
    "    y_train,y_test = y[:train_test_split],y[train_test_split:]  \n",
    "    print(X_train[0])\n",
    "    return X_train,X_test,y_train,y_test"
   ]
  },
  {
   "cell_type": "code",
   "execution_count": 6,
   "metadata": {},
   "outputs": [],
   "source": [
    "#number of iterations\n",
    "iterations = 2000\n",
    "#More activations can be added for comparison\n",
    "activations = ['sigmoid']#,'tanh','relu','identity']#,'relu','default']\n",
    "population = 40\n"
   ]
  },
  {
   "cell_type": "code",
   "execution_count": 7,
   "metadata": {},
   "outputs": [],
   "source": [
    "#train data\n",
    "def train(X_train,X_test,y_train,y_test,square,sin):\n",
    "    num_inputs = X_train.shape[1]\n",
    "    print(f\"Number of inputs = {num_inputs}\")\n",
    "\n",
    "    y_true=np.zeros((len(y_train),num_classes))\n",
    "    for i in range(len(y_train)):\n",
    "        y_true[i,y_train[i]] =1         #y_true[1] = [0,1], this means that 2nd index is true. and [1,0] means that 1st idx is true. can be used for more classes [0,0,0,0,1]\n",
    "    \n",
    "    y_test_true=np.zeros((len(y_test),num_classes))\n",
    "    #same as above but for test now\n",
    "    for i in range(len(y_test)):\n",
    "        y_test_true[i,y_test[i]]=1\n",
    "\n",
    "    print(f\"Shapes = ({y_test_true.shape},{y_true.shape})\")\n",
    "    \n",
    "    #Trains and generates a prediction\n",
    "    def training(shape,activationLayer,pop):\n",
    "     #   print(f\"Input : {X_train.shape} {y_true.shape}\")\n",
    "        cost_func=functools.partial(eval_neural_network,shape=shape,X=X_train, y=y_true.T, activationLayer=activationLayer)\n",
    "        #chi = inertia, phi_p = alpha1, phi_g =alpha2\n",
    "        #initialising the swarm\n",
    "        swarm = pso.ParticleSwarm(cost_func, num_dimensions=dim_weights(shape), num_particles=pop,chi=0.729845 ,phi_p=2,phi_g=2)\n",
    "\n",
    "        #train \n",
    "        i=0\n",
    "        best_scores = [(i,swarm.best_score)]\n",
    "\n",
    "        trainingLoss= []\n",
    "        testLoss = []\n",
    "        \n",
    "        #generate test loss and train loss per iteration\n",
    "        while swarm.best_score>1e-6 and i<iterations:\n",
    "            swarm._update()\n",
    "            i+=1\n",
    "            best_weights = vector_to_weights(swarm.g,shape)\n",
    "            best_nn = ann.MultiLayerPerceptron(shape,weights=best_weights)\n",
    "            y_test_pred = np.round(best_nn.run(X_test,activationLayer),0)\n",
    "            testError=sklearn.metrics.mean_squared_error((y_test_true.T),y_test_pred)\n",
    "            trainingLoss.append(swarm.best_score)\n",
    "            testLoss.append(testError)\n",
    "        \n",
    "        best_weights=vector_to_weights(swarm.g,shape)\n",
    "        best_nn=ann.MultiLayerPerceptron(shape,weights=best_weights)\n",
    "        y_test_pred = np.round(best_nn.run(X_test,activationLayer),0)\n",
    "        print(\"Accuracy score = \",sklearn.metrics.accuracy_score(y_test_true,y_test_pred.T))\n",
    "\n",
    "        return testLoss,y_test_pred,trainingLoss\n",
    "\n",
    "    #testing for multiple neurons \n",
    "    def generateTests():\n",
    "        neurons=[8]#[4,5,6,7,8]\n",
    "        arrays = np.zeros(shape=(len(activations),len(neurons),iterations))         #first dim = type of activation. 2nd = how many neurons and 3rd = mse at each iteration\n",
    "        minError = np.inf\n",
    "        yArray=[]\n",
    "        trainLoss=[]\n",
    "        bestParameters = np.zeros(shape=(1,1,iterations))\n",
    "        for i in range(len(arrays)):\n",
    "            activationLayer = activations[i]\n",
    "            for k in range(len(neurons)):\n",
    "                shape = (num_inputs,neurons[k],num_classes)\n",
    "                mse,ys,trainError =training(shape,activationLayer,population)\n",
    "                arrays[i][k] =mse\n",
    "                if np.amin(mse)<minError:\n",
    "                    minError = np.amin(mse)\n",
    "                    yArray=ys \n",
    "                    trainLoss=trainError\n",
    "                    bestParameters=[i,neurons[k],mse]\n",
    "                    print(activations[i])\n",
    "                print(f\"Activation = {activations[i].capitalize()} neurons = {neurons[k]} with mse of {np.amin(mse)} square = {square} and sine={sin}\")\n",
    "        \n",
    "        return arrays,yArray,bestParameters,trainError\n",
    "    \n",
    "    return generateTests()\n",
    "\n",
    "    "
   ]
  },
  {
   "cell_type": "code",
   "execution_count": 8,
   "metadata": {},
   "outputs": [
    {
     "name": "stdout",
     "output_type": "stream",
     "text": [
      "[ 4.47485    -0.89004    20.02428252  0.7921712  -0.97192002 -0.77709692]\n",
      "Number of inputs = 6\n",
      "Shapes = ((132, 2),(132, 2))\n",
      "Accuracy score =  0.8636363636363636\n",
      "sigmoid\n",
      "Activation = Sigmoid neurons = 8 with mse of 0.13636363636363635 square = True and sine=True\n"
     ]
    }
   ],
   "source": [
    "X_train,X_test,y_train,y_test = generateData(X,y,0.5,True,True)    #0.5 is the train test split ratio\n",
    "Combinations,testError,bestParameters,trainError = train(X_train,X_test,y_train,y_test,True,True)\n",
    "\n",
    "# while(np.amin(bestParameters[2])>0.05):\n",
    "#     Combinations,testError,bestParameters,trainError = train(X_train,X_test,y_train,y_test,True,True)\n"
   ]
  },
  {
   "cell_type": "code",
   "execution_count": 9,
   "metadata": {},
   "outputs": [
    {
     "data": {
      "image/png": "[encoded data removed]",
      "text/plain": [
       "<Figure size 864x648 with 1 Axes>"
      ]
     },
     "metadata": {
      "needs_background": "light"
     },
     "output_type": "display_data"
    }
   ],
   "source": [
    "#plotting the test and train error\n",
    "points = np.arange(iterations)\n",
    "plt.plot(points,trainError,label=\"Train error\")\n",
    "plt.plot(points,bestParameters[2],label = \"Test Error\")\n",
    "plt.legend(fontsize=25)\n",
    "plt.text(iterations*0.5,np.amax(bestParameters[2])*0.5,f\"Minimum Test Error of {np.round(np.amin(bestParameters[2]),4)}\",fontsize=20)\n",
    "plt.text(iterations*0.5,np.amax(bestParameters[2])*0.4,f\"Minimum Train Error of {np.round(np.amin(trainError),4)}\",fontsize=20)\n",
    "plt.title(\"Non-linear PSO optimized NN with 8 neurons and Sigmoid\",fontsize=25)\n",
    "plt.xlabel(\"Iterations\",fontsize=20)\n",
    "plt.ylabel(\"MSE\",fontsize=20)\n",
    "plt.xticks(fontsize=15)\n",
    "plt.yticks(fontsize=15)\n",
    "plt.show()\n"
   ]
  },
  {
   "cell_type": "code",
   "execution_count": 12,
   "metadata": {},
   "outputs": [],
   "source": [
    "#plot the prediction and the best array?\n",
    "def plotBestParameter(title,bestParameters):\n",
    "    points = np.arange(iterations)\n",
    "    plt.plot(points,bestParameters[2])\n",
    "    plt.title(title,fontsize=25)\n",
    "    plt.xlabel(\"Iterations\",fontsize=20)\n",
    "    plt.ylabel(\"MSE\",fontsize=20)\n",
    "    plt.xticks(fontsize=15)\n",
    "    plt.yticks(fontsize=15)\n",
    "    plt.text(iterations*0.6,np.amax(bestParameters[2]),f\"Minimum MSE of {np.round(np.amin(bestParameters[2]),4)}\",fontsize=20)\n",
    "\n",
    "    plt.show()\n",
    "def plotPrediction(X,yArray):\n",
    "    x1=[]\n",
    "    x2=[]\n",
    "    y1=[]\n",
    "    y2=[]\n",
    "    for i in range(len(yArray.T)):\n",
    "        if(yArray.T[i][0]==1):\n",
    "            x1.append(X[i][0])\n",
    "            y1.append(X[i][1])\n",
    "        else:\n",
    "            x2.append(X[i][0])\n",
    "            y2.append(X[i][1])\n",
    "    plt.scatter(x1,y1,c=\"b\",marker = \"x\",label=\"X\")\n",
    "    plt.scatter(x2,y2,c=\"r\",marker=\"o\",label=\"O\")\n",
    "    plt.title(\"Prediction values of given data (two_spirals.dat)\",fontsize=25)\n",
    "    plt.xlabel(\"X-coords\",fontsize=25)\n",
    "    plt.ylabel(\"Y-coords\",fontsize=25)\n",
    "    plt.legend(fontsize=25)\n",
    "    plt.xticks(fontsize=15)\n",
    "    plt.yticks(fontsize=15)\n",
    "    plt.savefig(\"../Plot_figures/test.png\")  \n",
    "    plt.show()\n",
    "\n",
    "def plotting(X,y,square,sin):\n",
    "    inputs = 2\n",
    "    if square:\n",
    "        inputs+=2\n",
    "    if sin:\n",
    "        inputs+=2\n",
    "    X_train,X_test,y_train,y_test = generateData(X,y,0.5,square,sin)    #0.5 is the train test split ratio\n",
    "    allParameters,prediction,bestParameters = train(X_train,X_test,y_train,y_test,square,sin)          #best parameters is used to plot the predictions ##allParameters to plot everything\n",
    "    #plot best parameter\n",
    "    print(prediction.shape,X_train.shape)\n",
    "    title = f\"Activation:{activations[bestParameters[0]]} Neurons={bestParameters[1]} and inputs = {inputs}\"\n",
    "    plotBestParameter(title,bestParameters)\n",
    "    plotPrediction(X,prediction)\n",
    "\n"
   ]
  },
  {
   "cell_type": "code",
   "execution_count": null,
   "metadata": {},
   "outputs": [],
   "source": [
    "#plotting(X,y,False,False)\n",
    "# plotting(X,y,True,False)\n",
    "# plotting(X,y,False,True)\n",
    "# plotting(X,y,True,True)"
   ]
  },
  {
   "cell_type": "code",
   "execution_count": null,
   "metadata": {},
   "outputs": [],
   "source": []
  },
  {
   "cell_type": "code",
   "execution_count": null,
   "metadata": {},
   "outputs": [],
   "source": []
  }
 ],
 "metadata": {
  "kernelspec": {
   "display_name": "Python 3",
   "language": "python",
   "name": "python3"
  },
  "language_info": {
   "codemirror_mode": {
    "name": "ipython",
    "version": 3
   },
   "file_extension": ".py",
   "mimetype": "text/x-python",
   "name": "python",
   "nbconvert_exporter": "python",
   "pygments_lexer": "ipython3",
   "version": "3.9.0"
  }
 },
 "nbformat": 4,
 "nbformat_minor": 2
}
