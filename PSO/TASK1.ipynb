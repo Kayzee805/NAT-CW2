{
 "cells": [
  {
   "cell_type": "code",
   "execution_count": 103,
   "metadata": {},
   "outputs": [],
   "source": [
    "from __future__ import print_function\n",
    "import pints\n",
    "import pints.toy as toy\n",
    "import numpy as np\n",
    "import matplotlib.pyplot as pl\n",
    "import pandas as pd\n",
    "from sklearn.neural_network import MLPClassifier\n"
   ]
  },
  {
   "cell_type": "code",
   "execution_count": 104,
   "metadata": {},
   "outputs": [
    {
     "data": {
      "text/plain": [
       "'[ 4.47485 -0.89004] -> 1.0'"
      ]
     },
     "execution_count": 104,
     "metadata": {},
     "output_type": "execute_result"
    }
   ],
   "source": [
    "f = open(\"two_spirals.dat\", \"r\")\n",
    "data = np.loadtxt(f)\n",
    "\n",
    "X = data[:, 0:2]  # x, y data points \n",
    "Y = data[:, 2]   # labels 1 or 0\n",
    "\n",
    "Xi_shape = (len(X), 1, 2)\n",
    "Yi_shape = (len(Y), 1, 1)\n",
    "\n",
    "train_test_split = 0.9\n",
    "\n",
    "f'{X[0]} -> {Y[0]}'"
   ]
  },
  {
   "cell_type": "code",
   "execution_count": 107,
   "metadata": {},
   "outputs": [
    {
     "name": "stdout",
     "output_type": "stream",
     "text": [
      "Best parameters set found on development set:\n",
      "{'activation': 'tanh', 'hidden_layer_sizes': (8, 2), 'solver': 'lbfgs'}\n",
      "Training set score: 0.613636\n",
      "Test set score: 0.651515\n"
     ]
    },
    {
     "name": "stderr",
     "output_type": "stream",
     "text": [
      "C:\\ProgramData\\Miniconda3\\lib\\site-packages\\sklearn\\neural_network\\_multilayer_perceptron.py:471: ConvergenceWarning: lbfgs failed to converge (status=1):\n",
      "STOP: TOTAL NO. of ITERATIONS REACHED LIMIT.\n",
      "\n",
      "Increase the number of iterations (max_iter) or scale the data as shown in:\n",
      "    https://scikit-learn.org/stable/modules/preprocessing.html\n",
      "  self.n_iter_ = _check_optimize_result(\"lbfgs\", opt_res, self.max_iter)\n"
     ]
    },
    {
     "data": {
      "text/plain": [
       "0.6363636363636364"
      ]
     },
     "execution_count": 107,
     "metadata": {},
     "output_type": "execute_result"
    }
   ],
   "source": [
    "import warnings\n",
    "\n",
    "import matplotlib.pyplot as plt\n",
    "from sklearn.datasets import fetch_openml\n",
    "from sklearn.exceptions import ConvergenceWarning\n",
    "from sklearn.neural_network import MLPClassifier\n",
    "from sklearn.model_selection import GridSearchCV\n",
    "\n",
    "param_grid = [\n",
    "        {\n",
    "            'activation' : ['tanh'],\n",
    "            'solver' : ['lbfgs', 'sgd', 'adam'],\n",
    "            'hidden_layer_sizes': [\n",
    "             (4,2),(5,2),(6,2),(7,2),(8,2)#,(9,),(10,),(11,),(12,),(13,),(14,),(15,)\n",
    "             ]\n",
    "        }\n",
    "       ]\n",
    "\n",
    "number_of_datapoints = len(X)\n",
    "train_test_split = int(0.5*number_of_datapoints)\n",
    "X_train, X_test = X[:train_test_split], X[train_test_split:]\n",
    "Y_train, Y_test = Y[:train_test_split], Y[train_test_split:]\n",
    "\n",
    "# this example won't converge because of CI's time constraints, so we catch the\n",
    "# warning and are ignore it here\n",
    "with warnings.catch_warnings():\n",
    "    warnings.filterwarnings(\"ignore\", category=ConvergenceWarning, module=\"sklearn\")\n",
    "    mlp = GridSearchCV(MLPClassifier(), param_grid, cv=5, scoring='accuracy')\n",
    "    mlp.fit(X,Y)\n",
    "    print(\"Best parameters set found on development set:\")\n",
    "    print(mlp.best_params_)\n",
    "\n",
    "print(\"Training set score: %f\" % mlp.score(X_train, Y_train))\n",
    "print(\"Test set score: %f\" % mlp.score(X_test, Y_test))\n",
    "\n",
    "# plt.show()\n",
    "clf = MLPClassifier(activation='tanh', hidden_layer_sizes=(8,2), solver='lbfgs')\n",
    "clf.fit(X_train, Y_train)\n",
    "clf.score(X_test, Y_test)"
   ]
  },
  {
   "cell_type": "code",
   "execution_count": 42,
   "metadata": {},
   "outputs": [
    {
     "name": "stdout",
     "output_type": "stream",
     "text": [
      "Minimising error measure\n",
      "Using Particle Swarm Optimisation (PSO)\n",
      "Running in sequential mode.\n",
      "Population size: 6\n",
      "Iter. Eval. Best      Time m:s\n",
      "0     11     4.12e+07   0:00.0\n",
      "1     22     4.12e+07   0:00.0\n",
      "2     33     3.66e+07   0:00.0\n",
      "3     44     3.66e+07   0:00.0\n",
      "20    231    1042923    0:00.0\n",
      "40    451    1042923    0:00.1\n",
      "60    671    179690.2   0:00.1\n",
      "80    891    179690.2   0:00.1\n",
      "100   1111   118983.3   0:00.1\n",
      "120   1331   118983.3   0:00.2\n",
      "140   1551   118983.3   0:00.2\n",
      "160   1771   118983.3   0:00.2\n",
      "180   1991   116933.8   0:00.2\n",
      "200   2211   116933.8   0:00.2\n",
      "220   2431   116933.8   0:00.3\n",
      "240   2651   116933.8   0:00.3\n",
      "260   2871   116933.8   0:00.3\n",
      "280   3091   116933.8   0:00.3\n",
      "300   3311   107929.3   0:00.3\n",
      "320   3531   107929.3   0:00.4\n",
      "340   3751   107929.3   0:00.4\n",
      "360   3971   107929.3   0:00.4\n",
      "380   4191   107929.3   0:00.4\n",
      "400   4411   107929.3   0:00.4\n",
      "420   4631   107929.3   0:00.5\n",
      "440   4851   107929.3   0:00.5\n",
      "460   5071   107929.3   0:00.5\n",
      "480   5291   107929.3   0:00.5\n",
      "486   5346   107929.3   0:00.5\n",
      "Halting: No significant change for 200 iterations.\n",
      "Score at true solution: \n",
      "101488.62218037165\n",
      "Found solution:          True parameters:\n",
      " 1.48782248052735013e-02     1.49999999999999994e-02\n",
      " 5.00828108156450412e+02     5.00000000000000000e+02\n"
     ]
    },
    {
     "data": {
      "image/png": "[encoded data removed]",
      "text/plain": [
       "<Figure size 432x288 with 1 Axes>"
      ]
     },
     "metadata": {
      "needs_background": "light"
     },
     "output_type": "display_data"
    }
   ],
   "source": [
    "# Load a forward model\n",
    "model = toy.LogisticModel()\n",
    "\n",
    "# Create some toy data\n",
    "real_parameters = [0.015, 500]\n",
    "times = np.linspace(0, 1000, 1000)\n",
    "values = model.simulate(real_parameters, times)\n",
    "\n",
    "# Add noise\n",
    "values += np.random.normal(0, 10, values.shape)\n",
    "\n",
    "# Create an object with links to the model and time series\n",
    "problem = pints.SingleOutputProblem(model, times, values)\n",
    "\n",
    "# Select a score function\n",
    "score = pints.SumOfSquaresError(problem)\n",
    "\n",
    "# Select some boundaries\n",
    "boundaries = pints.RectangularBoundaries([0, 200], [1, 1000])\n",
    "\n",
    "# Perform an optimization with boundaries and hints\n",
    "x0 = [0, 700]\n",
    "found_parameters, found_value = pints.optimise(\n",
    "    score,\n",
    "    x0,\n",
    "    boundaries=boundaries,\n",
    "    method=pints.PSO,\n",
    "    )\n",
    "\n",
    "# Show score of true solution\n",
    "print('Score at true solution: ')\n",
    "print(score(real_parameters))\n",
    "\n",
    "# Compare parameters with original\n",
    "print('Found solution:          True parameters:' )\n",
    "for k, x in enumerate(found_parameters):\n",
    "    print(pints.strfloat(x) + '    ' + pints.strfloat(real_parameters[k]))\n",
    "\n",
    "# Show quality of fit\n",
    "pl.figure()\n",
    "pl.xlabel('Time')\n",
    "pl.ylabel('Value')\n",
    "pl.plot(times, values, label='Nosiy data')\n",
    "pl.plot(times, problem.evaluate(found_parameters), label='Fit')\n",
    "pl.legend()\n",
    "pl.show()"
   ]
  },
  {
   "cell_type": "code",
   "execution_count": null,
   "metadata": {},
   "outputs": [],
   "source": []
  }
 ],
 "metadata": {
  "kernelspec": {
   "display_name": "Python 3",
   "language": "python",
   "name": "python3"
  },
  "language_info": {
   "codemirror_mode": {
    "name": "ipython",
    "version": 3
   },
   "file_extension": ".py",
   "mimetype": "text/x-python",
   "name": "python",
   "nbconvert_exporter": "python",
   "pygments_lexer": "ipython3",
   "version": "3.8.5"
  }
 },
 "nbformat": 4,
 "nbformat_minor": 2
}
